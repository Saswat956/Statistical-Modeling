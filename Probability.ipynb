{
 "cells": [
  {
   "cell_type": "markdown",
   "metadata": {},
   "source": [
    "## Probability Calculations"
   ]
  },
  {
   "cell_type": "code",
   "execution_count": 1,
   "metadata": {},
   "outputs": [
    {
     "name": "stdout",
     "output_type": "stream",
     "text": [
      "The probability of rolling an even number or greater than 7 is: 66.83 %\n"
     ]
    }
   ],
   "source": [
    "import numpy as np\n",
    "import random\n",
    "\n",
    "#Function for rolling the dice\n",
    "def roll_the_dice(n_simulations = 100000):\n",
    "    \n",
    "    count = 0\n",
    "    \n",
    "    #Each iteration of for loop is the trail\n",
    "    for i in range(n_simulations):\n",
    "        \n",
    "        #Roll each die\n",
    "        die1 = random.randint(1,6)\n",
    "        die2 = random.randint(1,6)\n",
    "        \n",
    "        #Sum the values to get the score\n",
    "        score = die1 + die2\n",
    "        \n",
    "        #Decide if we should add it to the count\n",
    "        if ((score % 2 == 0) or (score > 7)):\n",
    "            count += 1\n",
    "            \n",
    "    return count/n_simulations\n",
    "\n",
    "string = 'The probability of rolling an even number or greater than 7 is:'\n",
    "print (string,np.round(roll_the_dice()*100,2), '%')"
   ]
  },
  {
   "cell_type": "code",
   "execution_count": 2,
   "metadata": {},
   "outputs": [
    {
     "name": "stdout",
     "output_type": "stream",
     "text": [
      "0.2412\n"
     ]
    }
   ],
   "source": [
    "#A box contains 12 transistors of type A and 18 of type B. \n",
    "#one transistor is taken out at random and returned. \n",
    "#This process is repeated. \n",
    "#Determine the probability that the first chosen is type A and second is type B. \n",
    "\n",
    "import random\n",
    "\n",
    "trials = 10000 # total number of trials\n",
    "totalA = 12 # total number of A transistors\n",
    "totalB = 18 # total number of B transistors\n",
    "\n",
    "successes = 0 # variable keeping track of how many successful pulls there were\n",
    "\n",
    "choicelist = list(\"A\" * totalA + \"B\" * totalB) # list containing transitors to correct proportion\n",
    "\n",
    "def transistor():\n",
    "    return random.choice(choicelist) # pick a random transistor from list\n",
    "\n",
    "for i in range(trials):\n",
    "    try1 = transistor()\n",
    "    try2 = transistor()\n",
    "    if try1 == \"A\" and try2 == \"B\": # if first pull is type A and second is type B...\n",
    "        successes += 1 # ...then it's successful\n",
    "print (float(successes) / trials) # print out the proportion of successes to trials"
   ]
  },
  {
   "cell_type": "markdown",
   "metadata": {},
   "source": [
    "# Binomial Probability Calculations & Distributions"
   ]
  },
  {
   "cell_type": "code",
   "execution_count": 3,
   "metadata": {},
   "outputs": [
    {
     "name": "stdout",
     "output_type": "stream",
     "text": [
      "[6 3 8 6 7 3 4 8 4 5 2 5 5 5 3 5 6 4 4 8 5 4 5 6 5 3 5 4 5 5 5 5 7 6 6 3 7\n",
      " 5 4 4 4 6 6 5 6 5 6 8 8 5 5 5 4 3 6 5 4 3 5 3 5 8 8 5 2 2 4 6 5 6 4 6 8 5\n",
      " 5 7 4 5 6 3 5 4 5 7 2 6 4 5 7 4 6 5 6 6 2 5 5 5 4 8 4 2 7 6 3 1 4 7 6 3 4\n",
      " 6 4 5 6 7 2 3 7 5 6 4 5 7 2 1 5 6 5 6 8 3 4 7 5 7 4 7 8 5 4 5 6 2 4 4 4 1\n",
      " 4 4 5 8 6 4 6 5 5 7 6 5 2 2 6 4 5 5 4 7 4 5 2 5 4 7 9 7 5 5 4 6 5 5 7 6 3\n",
      " 6 5 4 3 3 5 3 6 3 7 3 7 4 4 6 4 7 4 7 6 2 6 5 2 3 5 7 4 6 5 4 4 5 5 4 5 3\n",
      " 4 4 5 4 3 3 6 7 4 5 5 5 5 8 3 5 3 6 4 4 5 5 5 7 6 6 9 8 4 7 5 6 5 6 3 5 3\n",
      " 4 5 4 4 6 2 4 5 6 2 6 5 4 4 5 1 5 4 4 4 4 7 3 5 6 5 4 5 6 7 6 5 6 4 5 4 5\n",
      " 6 5 6 7 6 4 5 6 6 3 3 4 3 8 5 4 5 4 7 6 7 5 4 6 5 8 8 5 7 7 5 4 8 4 2 5 4\n",
      " 4 5 4 4 6 5 6 6 3 6 3 4 4 5 6 5 5 3 6 5 3 5 4 4 2 5 5 3 7 5 5 3 7 4 6 5 8\n",
      " 7 4 5 5 3 5 4 6 4 4 6 6 4 6 9 6 5 4 7 5 6 6 3 4 4 4 8 6 3 6 3 6 6 9 3 2 5\n",
      " 8 2 5 6 6 5 8 4 6 7 6 5 6 5 4 4 6 4 2 7 5 2 7 3 5 5 8 6 4 4 3 3 6 6 5 7 9\n",
      " 5 6 4 7 4 7 5 4 6 3 6 4 4 6 5 2 7 6 2 4 4 6 3 6 3 5 6 5 6 6 4 7 4 6 4 5 2\n",
      " 6 5 4 3 6 3 1 5 3 5 7 5 3 4 6 7 6 4 5 5 6 4 6 4 4 9 5 6 5 4 4 5 6 5 7 5 7\n",
      " 7 7 5 8 3 6 5 6 6 7 4 6 6 5 3 8 1 4 6 3 4 5 7 3 4 7 5 5 6 1 4 2 2 5 6 4 8\n",
      " 4 3 6 5 6 2 7 8 5 5 4 3 5 7 2 5 6 2 2 6 4 6 5 4 4 4 2 3 5 4 8 5 3 7 5 6 4\n",
      " 3 3 8 3 6 6 4 6 7 4 6 5 5 3 7 8 4 4 3 5 5 6 8 3 4 5 8 2 2 6 4 4 4 3 5 5 8\n",
      " 3 5 7 4 5 6 4 5 7 5 5 5 7 5 3 5 5 7 7 3 3 4 3 8 4 7 7 4 6 5 5 5 5 5 6 6 3\n",
      " 5 5 6 7 5 6 4 5 5 6 5 6 4 7 5 5 7 7 5 3 8 3 7 6 9 7 5 6 5 7 7 5 5 6 7 7 1\n",
      " 4 6 4 7 2 6 3 3 6 8 2 5 4 7 8 6 4 8 6 7 4 5 3 5 6 7 9 6 2 2 6 4 7 7 4 6 6\n",
      " 5 6 4 5 2 5 6 4 4 3 6 4 4 3 5 6 3 5 6 5 3 2 5 6 5 5 8 5 7 5 4 7 4 3 4 2 3\n",
      " 5 4 2 5 4 7 7 4 5 5 5 6 5 6 7 5 4 6 6 6 4 5 3 6 4 4 3 6 8 5 4 8 4 5 4 4 4\n",
      " 7 6 5 4 5 5 4 5 5 6 5 5 2 6 6 3 4 4 6 4 5 4 7 4 2 5 6 5 5 7 3 5 3 4 4 3 8\n",
      " 4 4 4 7 4 5 4 4 5 6 6 7 5 5 5 3 5 6 4 4 6 4 4 4 4 5 3 5 6 5 5 4 5 4 7 2 3\n",
      " 4 3 4 5 4 5 5 3 3 3 8 6 5 3 5 6 3 6 3 7 7 7 7 5 6 6 5 5 4 4 4 4 6 4 6 4 6\n",
      " 2 3 3 8 6 3 5 6 7 6 4 3 5 2 4 4 6 5 5 7 7 3 5 4 5 2 5 4 4 6 6 7 5 5 8 6 6\n",
      " 4 3 7 5 6 8 6 7 3 4 4 3 3 5 3 6 4 4 6 4 6 4 6 6 6 5 5 3 6 6 5 5 1 6 8 7 7\n",
      " 5]\n"
     ]
    }
   ],
   "source": [
    "#Syntax : numpy.random.binomial(n, p, size=None)¶\n",
    "\n",
    "\n",
    "# result of flipping a coin 10 times, tested 1000 times.\n",
    "\n",
    "n, p = 10, .5  # number of trials, probability of each trial\n",
    "s = np.random.binomial(n, p, 1000)\n",
    "print (s)"
   ]
  },
  {
   "cell_type": "code",
   "execution_count": 4,
   "metadata": {},
   "outputs": [],
   "source": [
    "#A real world example. A company drills 9 wild-cat oil exploration wells, \n",
    "#each with an estimated probability of success of 0.1. All nine wells fail. \n",
    "#What is the probability of that happening?\n",
    "#Let’s do 20,000 trials of the model, and count the number that generate zero positive results."
   ]
  },
  {
   "cell_type": "code",
   "execution_count": 5,
   "metadata": {},
   "outputs": [
    {
     "data": {
      "text/plain": [
       "0.38515"
      ]
     },
     "execution_count": 5,
     "metadata": {},
     "output_type": "execute_result"
    }
   ],
   "source": [
    "sum(np.random.binomial(9, 0.1, 20000) == 0)/20000"
   ]
  },
  {
   "cell_type": "code",
   "execution_count": 6,
   "metadata": {},
   "outputs": [
    {
     "data": {
      "text/plain": [
       "[Text(0, 0.5, 'Frequency'), Text(0.5, 0, 'Binomial')]"
      ]
     },
     "execution_count": 6,
     "metadata": {},
     "output_type": "execute_result"
    }
   ],
   "source": [
    "#Binomial Probability Distribution\n",
    "import seaborn as sns\n",
    "from scipy.stats import binom\n",
    "\n",
    "binom.rvs(n=10,p=0.5)\n",
    "binom.rvs(size=5,n=10,p=0.5)\n",
    "\n",
    "data_binom = binom.rvs(n=10,p=0.5,size=10000)\n",
    "ax = sns.distplot(data_binom,\n",
    "                  kde=False,\n",
    "                  color='skyblue',\n",
    "                  hist_kws={\"linewidth\": 15,'alpha':1})\n",
    "ax.set(xlabel='Binomial', ylabel='Frequency')"
   ]
  },
  {
   "cell_type": "markdown",
   "metadata": {},
   "source": [
    "## Poission Probability Calculations & Distributions"
   ]
  },
  {
   "cell_type": "code",
   "execution_count": 7,
   "metadata": {},
   "outputs": [
    {
     "data": {
      "image/png": "[encoded data removed]",
      "text/plain": [
       "<Figure size 432x288 with 1 Axes>"
      ]
     },
     "metadata": {
      "needs_background": "light"
     },
     "output_type": "display_data"
    }
   ],
   "source": [
    "import matplotlib.pyplot as plt\n",
    "\n",
    "gaussian = np.random.normal(0.5, 2*np.sqrt(2*np.log(2)), 1000)\n",
    "poisson = np.random.poisson(0.5, 1000)\n",
    "\n",
    "plt.hist(gaussian)\n",
    "plt.hist(poisson)\n",
    "plt.show()"
   ]
  },
  {
   "cell_type": "code",
   "execution_count": 8,
   "metadata": {},
   "outputs": [
    {
     "name": "stdout",
     "output_type": "stream",
     "text": [
      "[0 3 1 ... 6 4 3]\n"
     ]
    },
    {
     "data": {
      "text/plain": [
       "[Text(0, 0.5, 'Frequency'), Text(0.5, 0, 'Poisson')]"
      ]
     },
     "execution_count": 8,
     "metadata": {},
     "output_type": "execute_result"
    },
    {
     "data": {
      "image/png": "[encoded data removed]",
      "text/plain": [
       "<Figure size 432x288 with 1 Axes>"
      ]
     },
     "metadata": {
      "needs_background": "light"
     },
     "output_type": "display_data"
    }
   ],
   "source": [
    "from scipy.stats import poisson\n",
    "import seaborn as sb\n",
    "\n",
    "data_binom = poisson.rvs(mu=4, size=10000)\n",
    "print (data_binom)\n",
    "ax = sb.distplot(data_binom,\n",
    "                  kde=True,\n",
    "                  color='green',\n",
    "                  hist_kws={\"linewidth\": 25,'alpha':1})\n",
    "ax.set(xlabel='Poisson', ylabel='Frequency')"
   ]
  },
  {
   "cell_type": "code",
   "execution_count": 9,
   "metadata": {},
   "outputs": [
    {
     "name": "stdout",
     "output_type": "stream",
     "text": [
      "[3 4 6 ... 2 2 6]\n"
     ]
    }
   ],
   "source": [
    "#Syntax : numpy.random.poisson(lam=1.0, size=None)¶\n",
    "\n",
    "import numpy as np\n",
    "s = np.random.poisson(5, 10000)\n",
    "print (s)"
   ]
  },
  {
   "cell_type": "code",
   "execution_count": 10,
   "metadata": {},
   "outputs": [
    {
     "name": "stderr",
     "output_type": "stream",
     "text": [
      "C:\\Users\\Saswat swain\\Anaconda3\\lib\\site-packages\\ipykernel_launcher.py:2: MatplotlibDeprecationWarning: \n",
      "The 'normed' kwarg was deprecated in Matplotlib 2.1 and will be removed in 3.1. Use 'density' instead.\n",
      "  \n"
     ]
    },
    {
     "data": {
      "image/png": "[encoded data removed]",
      "text/plain": [
       "<Figure size 432x288 with 1 Axes>"
      ]
     },
     "metadata": {
      "needs_background": "light"
     },
     "output_type": "display_data"
    }
   ],
   "source": [
    "import matplotlib.pyplot as plt\n",
    "count, bins, ignored = plt.hist(s, 14, normed=True)\n",
    "plt.show()"
   ]
  },
  {
   "cell_type": "code",
   "execution_count": 11,
   "metadata": {},
   "outputs": [
    {
     "data": {
      "image/png": "[encoded data removed]",
      "text/plain": [
       "<Figure size 432x288 with 1 Axes>"
      ]
     },
     "metadata": {
      "needs_background": "light"
     },
     "output_type": "display_data"
    }
   ],
   "source": [
    "from scipy.stats import poisson\n",
    "import matplotlib.pyplot as plt\n",
    "plt.ylabel('Probability of car passing')\n",
    "plt.xlabel('Number of cars')\n",
    "plt.title('Probability Distribution Curve')\n",
    "arr = []\n",
    "rv = poisson(25)\n",
    "for num in range(0,40):\n",
    "    arr.append(rv.pmf(num))\n",
    " \n",
    "#print(rv.pmf(28))\n",
    "prob = rv.pmf(28)\n",
    "plt.grid(True)\n",
    "plt.plot(arr, linewidth=2.0)\n",
    "plt.plot([28], [prob], marker='o', markersize=6, color=\"red\")\n",
    "plt.show()"
   ]
  },
  {
   "cell_type": "code",
   "execution_count": null,
   "metadata": {
    "collapsed": true
   },
   "outputs": [],
   "source": []
  }
 ],
 "metadata": {
  "kernelspec": {
   "display_name": "Python 3",
   "language": "python",
   "name": "python3"
  },
  "language_info": {
   "codemirror_mode": {
    "name": "ipython",
    "version": 3
   },
   "file_extension": ".py",
   "mimetype": "text/x-python",
   "name": "python",
   "nbconvert_exporter": "python",
   "pygments_lexer": "ipython3",
   "version": "3.7.3"
  }
 },
 "nbformat": 4,
 "nbformat_minor": 2
}
